{
 "cells": [
  {
   "cell_type": "code",
   "execution_count": 1,
   "metadata": {},
   "outputs": [],
   "source": [
    "\"\"\"\n",
    "    -- Description:\n",
    "        \n",
    "        This notebook deals with the following problems in financial labeling:\n",
    "        \n",
    "        (1) using fixed threshold for return rate often leads to training data imbalance         \n",
    "        \n",
    "        under circumstances of various volatility.\n",
    "        \n",
    "        (2) path dependent labeling needs to be applied where we havce profit-taking \n",
    "        \n",
    "        and stop-loss orders placed.\n",
    "        \n",
    "    -- Prerequisite:\n",
    "        \n",
    "        Quandl Api Key\n",
    "        \n",
    "    -- Auther:\n",
    "        \n",
    "        Fang Fan (Roy)\n",
    "        \n",
    "    -- Date:\n",
    "        \n",
    "        September 17, 2020\n",
    "    \n",
    "\"\"\";"
   ]
  },
  {
   "cell_type": "code",
   "execution_count": 26,
   "metadata": {},
   "outputs": [],
   "source": [
    "import numpy as np\n",
    "import pandas as pd\n",
    "import matplotlib.pyplot as plt\n",
    "import seaborn as sns\n",
    "import quandl\n",
    "import time\n",
    "from contextlib import contextmanager\n",
    "\n",
    "%matplotlib inline\n",
    "sns.set()\n",
    "quandl.ApiConfig.api_key = \"okePP6eysAeuyx8BnX7k\""
   ]
  },
  {
   "cell_type": "code",
   "execution_count": 27,
   "metadata": {},
   "outputs": [],
   "source": [
    "# Util function for recording execution duration\n",
    "@contextmanager\n",
    "def how_long(process_name):\n",
    "    startTime = time.time()\n",
    "    yield\n",
    "    elapsedTime = time.time() - startTime\n",
    "    print(\"[{}] finished in {}s\".format(process_name, int(elapsedTime)))"
   ]
  },
  {
   "cell_type": "markdown",
   "metadata": {},
   "source": [
    "## Load Historical Data"
   ]
  },
  {
   "cell_type": "code",
   "execution_count": 4,
   "metadata": {},
   "outputs": [],
   "source": [
    "start_date = pd.to_datetime(\"2015-01-01\")\n",
    "end_date = pd.to_datetime(\"2018-01-01\")\n",
    "data = quandl.get(\"WIKI/AAPL.11\", start_date=start_date, end_date=end_date)\n",
    "data = data.reset_index(drop=False)"
   ]
  },
  {
   "cell_type": "code",
   "execution_count": 7,
   "metadata": {},
   "outputs": [],
   "source": [
    "def get_return_and_ewm_volatility(df, span=100):\n",
    "    df[\"Return\"] = df[\"Adj. Close\"] / df[\"Adj. Close\"].shift(1) - 1\n",
    "    df[\"Volatility\"] = df[\"Return\"].ewm(span=span).std()\n",
    "    return None"
   ]
  },
  {
   "cell_type": "code",
   "execution_count": 8,
   "metadata": {},
   "outputs": [],
   "source": [
    "get_return_and_ewm_volatility(data)"
   ]
  },
  {
   "cell_type": "code",
   "execution_count": 9,
   "metadata": {},
   "outputs": [
    {
     "data": {
      "text/html": [
       "<div>\n",
       "<style scoped>\n",
       "    .dataframe tbody tr th:only-of-type {\n",
       "        vertical-align: middle;\n",
       "    }\n",
       "\n",
       "    .dataframe tbody tr th {\n",
       "        vertical-align: top;\n",
       "    }\n",
       "\n",
       "    .dataframe thead th {\n",
       "        text-align: right;\n",
       "    }\n",
       "</style>\n",
       "<table border=\"1\" class=\"dataframe\">\n",
       "  <thead>\n",
       "    <tr style=\"text-align: right;\">\n",
       "      <th></th>\n",
       "      <th>Date</th>\n",
       "      <th>Adj. Close</th>\n",
       "      <th>Return</th>\n",
       "      <th>Volatility</th>\n",
       "    </tr>\n",
       "  </thead>\n",
       "  <tbody>\n",
       "    <tr>\n",
       "      <th>0</th>\n",
       "      <td>2015-01-02</td>\n",
       "      <td>103.863957</td>\n",
       "      <td>NaN</td>\n",
       "      <td>NaN</td>\n",
       "    </tr>\n",
       "    <tr>\n",
       "      <th>1</th>\n",
       "      <td>2015-01-05</td>\n",
       "      <td>100.937944</td>\n",
       "      <td>-0.028172</td>\n",
       "      <td>NaN</td>\n",
       "    </tr>\n",
       "    <tr>\n",
       "      <th>2</th>\n",
       "      <td>2015-01-06</td>\n",
       "      <td>100.947444</td>\n",
       "      <td>0.000094</td>\n",
       "      <td>0.019987</td>\n",
       "    </tr>\n",
       "    <tr>\n",
       "      <th>750</th>\n",
       "      <td>2017-12-27</td>\n",
       "      <td>170.600000</td>\n",
       "      <td>0.000176</td>\n",
       "      <td>0.011438</td>\n",
       "    </tr>\n",
       "    <tr>\n",
       "      <th>751</th>\n",
       "      <td>2017-12-28</td>\n",
       "      <td>171.080000</td>\n",
       "      <td>0.002814</td>\n",
       "      <td>0.011328</td>\n",
       "    </tr>\n",
       "    <tr>\n",
       "      <th>752</th>\n",
       "      <td>2017-12-29</td>\n",
       "      <td>169.230000</td>\n",
       "      <td>-0.010814</td>\n",
       "      <td>0.011336</td>\n",
       "    </tr>\n",
       "  </tbody>\n",
       "</table>\n",
       "</div>"
      ],
      "text/plain": [
       "          Date  Adj. Close    Return  Volatility\n",
       "0   2015-01-02  103.863957       NaN         NaN\n",
       "1   2015-01-05  100.937944 -0.028172         NaN\n",
       "2   2015-01-06  100.947444  0.000094    0.019987\n",
       "750 2017-12-27  170.600000  0.000176    0.011438\n",
       "751 2017-12-28  171.080000  0.002814    0.011328\n",
       "752 2017-12-29  169.230000 -0.010814    0.011336"
      ]
     },
     "execution_count": 9,
     "metadata": {},
     "output_type": "execute_result"
    }
   ],
   "source": [
    "data.head(3).append(data.tail(3))"
   ]
  },
  {
   "cell_type": "markdown",
   "metadata": {},
   "source": [
    "## Three Barrier Labeling"
   ]
  },
  {
   "cell_type": "code",
   "execution_count": null,
   "metadata": {},
   "outputs": [],
   "source": [
    "# We choose a date (D), and then fix the range for the next h days (D, D + h) \n",
    "# For each day in the range, we check if the acc. return rate triggers  pt/sl\n",
    "# The pt/sl thresholds are given by (1) the volatility on the date D and (2) width"
   ]
  },
  {
   "cell_type": "code",
   "execution_count": 45,
   "metadata": {},
   "outputs": [],
   "source": [
    "def TBL(data, width=(0.5, 0.5), h=15):\n",
    "    \"\"\"\n",
    "    Input: Historical Close Data\n",
    "    Output: Data with Labels by Three Barrier Labeling method\n",
    "    \"\"\"\n",
    "    # Set barriers\n",
    "    events = data[[\"Date\", \"Volatility\"]].copy()\n",
    "    events[\"VB for Date\"] = events[\"Date\"] + pd.Timedelta(days=h)\n",
    "    events[\"UB for Return\"] = events[\"Volatility\"] * width[0]\n",
    "    events[\"LB for Return\"] = events[\"Volatility\"] * (- width[1])\n",
    "    events[\"Last Date\"] = list(events[\"Date\"])[-1]\n",
    "    \n",
    "    # Get Labels\n",
    "    result = events[[\"Date\", \"VB for Date\", \"Last Date\"]].copy()\n",
    "    for idx, date, vb, _ in result.itertuples():\n",
    "        upper_bound = events.at[idx, \"UB for Return\"]\n",
    "        lower_bound = events.at[idx, \"LB for Return\"]\n",
    "        tmp = data[(data[\"Date\"] > date)&(data[\"Date\"]<vb)][[\"Date\", \"Adj. Close\"]].copy()\n",
    "        base_price = data[data[\"Date\"]==date][\"Adj. Close\"].iloc[0]\n",
    "        tmp[\"Return\"] = tmp[\"Adj. Close\"] / base_price - 1\n",
    "        # upper and lower bound touching\n",
    "        ut_date = tmp[tmp[\"Return\"] > upper_bound][\"Date\"].min()\n",
    "        dt_date = tmp[tmp[\"Return\"] < lower_bound][\"Date\"].min()\n",
    "        result.at[idx, \"UT Date\"] = ut_date\n",
    "        result.at[idx, \"DT Date\"] = dt_date\n",
    "    \n",
    "    result[\"First Touch\"] = result[[\"VB for Date\",\"UT Date\",\"DT Date\",\"Last Date\"]].dropna(how=\"all\").min(axis=1)\n",
    "    return result"
   ]
  },
  {
   "cell_type": "code",
   "execution_count": 76,
   "metadata": {},
   "outputs": [],
   "source": [
    "def get_labels(data, result, enable_zero_label=True):\n",
    "    \"\"\"\n",
    "    Input: Historical Data, TBL result\n",
    "    Output: Final Labels\n",
    "        (1) when enable_zero_label is True:\n",
    "            1: Upper Bound Triggered\n",
    "           -1: Lower Bound Triggered\n",
    "            0: Vertical Bound Triggered\n",
    "        (2) when enable_zero_label is False:\n",
    "            1: positive return\n",
    "           -1: negative return\n",
    "            0: zero return\n",
    "    \"\"\"\n",
    "    output = result.copy()\n",
    "    price_start = pd.merge(result, data, on=[\"Date\"], how=\"left\")[\"Adj. Close\"]\n",
    "    price_end = pd.merge(result, data, left_on=\"First Touch\", right_on=\"Date\", how=\"left\")[\"Adj. Close\"]\n",
    "    \n",
    "    output[\"Return\"] = (price_end / price_start - 1)\n",
    "    output = output.dropna(subset=[\"Return\"]).reset_index(drop=True)\n",
    "    output[\"Label\"] = np.sign(output[\"Return\"]).astype(\"int\")\n",
    "    if enable_zero_label:\n",
    "        for i, content in output.iterrows():\n",
    "            if content[\"First Touch\"] == min(content[\"VB for Date\"], content[\"Last Date\"]):\n",
    "                output.at[i, \"Label\"] = 0\n",
    "    return output"
   ]
  },
  {
   "cell_type": "code",
   "execution_count": 77,
   "metadata": {},
   "outputs": [
    {
     "name": "stdout",
     "output_type": "stream",
     "text": [
      "[TBL Labeling] finished in 4s\n"
     ]
    }
   ],
   "source": [
    "with how_long(\"TBL Labeling\"):\n",
    "    result = TBL(data, (2, 2), 15)\n",
    "    result_with_labels = get_labels(data, result, True)"
   ]
  },
  {
   "cell_type": "code",
   "execution_count": 74,
   "metadata": {},
   "outputs": [
    {
     "data": {
      "text/html": [
       "<div>\n",
       "<style scoped>\n",
       "    .dataframe tbody tr th:only-of-type {\n",
       "        vertical-align: middle;\n",
       "    }\n",
       "\n",
       "    .dataframe tbody tr th {\n",
       "        vertical-align: top;\n",
       "    }\n",
       "\n",
       "    .dataframe thead th {\n",
       "        text-align: right;\n",
       "    }\n",
       "</style>\n",
       "<table border=\"1\" class=\"dataframe\">\n",
       "  <thead>\n",
       "    <tr style=\"text-align: right;\">\n",
       "      <th></th>\n",
       "      <th>Date</th>\n",
       "      <th>VB for Date</th>\n",
       "      <th>Last Date</th>\n",
       "      <th>UT Date</th>\n",
       "      <th>DT Date</th>\n",
       "      <th>First Touch</th>\n",
       "      <th>Return</th>\n",
       "      <th>Label</th>\n",
       "    </tr>\n",
       "  </thead>\n",
       "  <tbody>\n",
       "    <tr>\n",
       "      <th>0</th>\n",
       "      <td>2015-01-05</td>\n",
       "      <td>2015-01-20</td>\n",
       "      <td>2017-12-29</td>\n",
       "      <td>NaT</td>\n",
       "      <td>NaT</td>\n",
       "      <td>2015-01-20</td>\n",
       "      <td>0.023247</td>\n",
       "      <td>0</td>\n",
       "    </tr>\n",
       "    <tr>\n",
       "      <th>1</th>\n",
       "      <td>2015-01-06</td>\n",
       "      <td>2015-01-21</td>\n",
       "      <td>2017-12-29</td>\n",
       "      <td>2015-01-08</td>\n",
       "      <td>NaT</td>\n",
       "      <td>2015-01-08</td>\n",
       "      <td>0.052983</td>\n",
       "      <td>1</td>\n",
       "    </tr>\n",
       "    <tr>\n",
       "      <th>2</th>\n",
       "      <td>2015-01-07</td>\n",
       "      <td>2015-01-22</td>\n",
       "      <td>2017-12-29</td>\n",
       "      <td>NaT</td>\n",
       "      <td>NaT</td>\n",
       "      <td>2015-01-22</td>\n",
       "      <td>0.043155</td>\n",
       "      <td>0</td>\n",
       "    </tr>\n",
       "    <tr>\n",
       "      <th>3</th>\n",
       "      <td>2015-01-08</td>\n",
       "      <td>2015-01-23</td>\n",
       "      <td>2017-12-29</td>\n",
       "      <td>NaT</td>\n",
       "      <td>NaT</td>\n",
       "      <td>2015-01-23</td>\n",
       "      <td>0.009742</td>\n",
       "      <td>0</td>\n",
       "    </tr>\n",
       "    <tr>\n",
       "      <th>4</th>\n",
       "      <td>2015-01-09</td>\n",
       "      <td>2015-01-24</td>\n",
       "      <td>2017-12-29</td>\n",
       "      <td>NaT</td>\n",
       "      <td>2015-01-16</td>\n",
       "      <td>2015-01-16</td>\n",
       "      <td>-0.053745</td>\n",
       "      <td>-1</td>\n",
       "    </tr>\n",
       "    <tr>\n",
       "      <th>...</th>\n",
       "      <td>...</td>\n",
       "      <td>...</td>\n",
       "      <td>...</td>\n",
       "      <td>...</td>\n",
       "      <td>...</td>\n",
       "      <td>...</td>\n",
       "      <td>...</td>\n",
       "      <td>...</td>\n",
       "    </tr>\n",
       "    <tr>\n",
       "      <th>701</th>\n",
       "      <td>2017-12-22</td>\n",
       "      <td>2018-01-06</td>\n",
       "      <td>2017-12-29</td>\n",
       "      <td>NaT</td>\n",
       "      <td>2017-12-26</td>\n",
       "      <td>2017-12-26</td>\n",
       "      <td>-0.025370</td>\n",
       "      <td>-1</td>\n",
       "    </tr>\n",
       "    <tr>\n",
       "      <th>702</th>\n",
       "      <td>2017-12-26</td>\n",
       "      <td>2018-01-10</td>\n",
       "      <td>2017-12-29</td>\n",
       "      <td>NaT</td>\n",
       "      <td>NaT</td>\n",
       "      <td>2017-12-29</td>\n",
       "      <td>-0.007856</td>\n",
       "      <td>0</td>\n",
       "    </tr>\n",
       "    <tr>\n",
       "      <th>703</th>\n",
       "      <td>2017-12-27</td>\n",
       "      <td>2018-01-11</td>\n",
       "      <td>2017-12-29</td>\n",
       "      <td>NaT</td>\n",
       "      <td>NaT</td>\n",
       "      <td>2017-12-29</td>\n",
       "      <td>-0.008030</td>\n",
       "      <td>0</td>\n",
       "    </tr>\n",
       "    <tr>\n",
       "      <th>704</th>\n",
       "      <td>2017-12-28</td>\n",
       "      <td>2018-01-12</td>\n",
       "      <td>2017-12-29</td>\n",
       "      <td>NaT</td>\n",
       "      <td>NaT</td>\n",
       "      <td>2017-12-29</td>\n",
       "      <td>-0.010814</td>\n",
       "      <td>0</td>\n",
       "    </tr>\n",
       "    <tr>\n",
       "      <th>705</th>\n",
       "      <td>2017-12-29</td>\n",
       "      <td>2018-01-13</td>\n",
       "      <td>2017-12-29</td>\n",
       "      <td>NaT</td>\n",
       "      <td>NaT</td>\n",
       "      <td>2017-12-29</td>\n",
       "      <td>0.000000</td>\n",
       "      <td>0</td>\n",
       "    </tr>\n",
       "  </tbody>\n",
       "</table>\n",
       "<p>706 rows × 8 columns</p>\n",
       "</div>"
      ],
      "text/plain": [
       "          Date VB for Date  Last Date    UT Date    DT Date First Touch  \\\n",
       "0   2015-01-05  2015-01-20 2017-12-29        NaT        NaT  2015-01-20   \n",
       "1   2015-01-06  2015-01-21 2017-12-29 2015-01-08        NaT  2015-01-08   \n",
       "2   2015-01-07  2015-01-22 2017-12-29        NaT        NaT  2015-01-22   \n",
       "3   2015-01-08  2015-01-23 2017-12-29        NaT        NaT  2015-01-23   \n",
       "4   2015-01-09  2015-01-24 2017-12-29        NaT 2015-01-16  2015-01-16   \n",
       "..         ...         ...        ...        ...        ...         ...   \n",
       "701 2017-12-22  2018-01-06 2017-12-29        NaT 2017-12-26  2017-12-26   \n",
       "702 2017-12-26  2018-01-10 2017-12-29        NaT        NaT  2017-12-29   \n",
       "703 2017-12-27  2018-01-11 2017-12-29        NaT        NaT  2017-12-29   \n",
       "704 2017-12-28  2018-01-12 2017-12-29        NaT        NaT  2017-12-29   \n",
       "705 2017-12-29  2018-01-13 2017-12-29        NaT        NaT  2017-12-29   \n",
       "\n",
       "       Return  Label  \n",
       "0    0.023247      0  \n",
       "1    0.052983      1  \n",
       "2    0.043155      0  \n",
       "3    0.009742      0  \n",
       "4   -0.053745     -1  \n",
       "..        ...    ...  \n",
       "701 -0.025370     -1  \n",
       "702 -0.007856      0  \n",
       "703 -0.008030      0  \n",
       "704 -0.010814      0  \n",
       "705  0.000000      0  \n",
       "\n",
       "[706 rows x 8 columns]"
      ]
     },
     "execution_count": 74,
     "metadata": {},
     "output_type": "execute_result"
    }
   ],
   "source": [
    "result_with_labels.head(3).append(result_with_labels.head(3))"
   ]
  },
  {
   "cell_type": "code",
   "execution_count": 75,
   "metadata": {},
   "outputs": [
    {
     "data": {
      "text/plain": [
       "<AxesSubplot:xlabel='Label', ylabel='count'>"
      ]
     },
     "execution_count": 75,
     "metadata": {},
     "output_type": "execute_result"
    },
    {
     "data": {
      "image/png": "[encoded data removed]",
      "text/plain": [
       "<Figure size 432x288 with 1 Axes>"
      ]
     },
     "metadata": {},
     "output_type": "display_data"
    }
   ],
   "source": [
    "sns.countplot(result_with_labels[\"Label\"])"
   ]
  },
  {
   "cell_type": "code",
   "execution_count": null,
   "metadata": {},
   "outputs": [],
   "source": []
  }
 ],
 "metadata": {
  "kernelspec": {
   "display_name": "finance",
   "language": "python",
   "name": "finance"
  },
  "language_info": {
   "codemirror_mode": {
    "name": "ipython",
    "version": 3
   },
   "file_extension": ".py",
   "mimetype": "text/x-python",
   "name": "python",
   "nbconvert_exporter": "python",
   "pygments_lexer": "ipython3",
   "version": "3.7.9"
  }
 },
 "nbformat": 4,
 "nbformat_minor": 4
}
