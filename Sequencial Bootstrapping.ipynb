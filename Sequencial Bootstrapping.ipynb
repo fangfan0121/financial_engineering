{
 "cells": [
  {
   "cell_type": "code",
   "execution_count": 1,
   "metadata": {},
   "outputs": [],
   "source": [
    "\"\"\"\n",
    "    -- Description:\n",
    "        \n",
    "        This notebook applies Sequential Bootstrapping with mlfinlab.\n",
    "        \n",
    "        (1) We apply CUSUM filter to get events, and apply TBL labeling.\n",
    "        \n",
    "        (2) Sequantial Bootstrapping will be applied in the sampling process.\n",
    "        \n",
    "        (3) In sequantial bootstrap, each step of sampling maximizes the probabality \n",
    "        \n",
    "        of the label which leads to the maximal uniqueness being drawn. It still \n",
    "        \n",
    "        allows repetition, but with a adjusted, lower probability.\n",
    "        \n",
    "        (4) Adjustment based on absolute return and time decay is also considered.\n",
    "        \n",
    "    -- Prerequisite:\n",
    "        \n",
    "        Quandl Api Key\n",
    "        \n",
    "    -- Auther:\n",
    "        \n",
    "        Fang Fan (Roy)\n",
    "        \n",
    "    -- Date:\n",
    "        \n",
    "        September 20, 2020\n",
    "    \n",
    "\"\"\";"
   ]
  },
  {
   "cell_type": "code",
   "execution_count": 2,
   "metadata": {},
   "outputs": [],
   "source": [
    "import pandas as pd\n",
    "import numpy as np\n",
    "import mlfinlab as ml\n",
    "import seaborn as sns\n",
    "import quandl\n",
    "from sklearn.utils import resample\n",
    "from mlfinlab.sampling.concurrent import get_av_uniqueness_from_triple_barrier\n",
    "from mlfinlab.sampling.bootstrapping import get_ind_mat_average_uniqueness\n",
    "from mlfinlab.sampling.bootstrapping import get_ind_matrix\n",
    "from mlfinlab.sampling.bootstrapping import seq_bootstrap"
   ]
  },
  {
   "cell_type": "code",
   "execution_count": 3,
   "metadata": {},
   "outputs": [],
   "source": [
    "quandl.ApiConfig.api_key = \"okePP6eysAeuyx8BnX7k\"\n",
    "\n",
    "start_date = pd.to_datetime(\"2011-01-01\")\n",
    "end_date = pd.to_datetime(\"2018-01-01\")"
   ]
  },
  {
   "cell_type": "code",
   "execution_count": 4,
   "metadata": {},
   "outputs": [],
   "source": [
    "data = quandl.get(\"WIKI/AAPL.11\", start_date=start_date, end_date=end_date)"
   ]
  },
  {
   "cell_type": "code",
   "execution_count": 5,
   "metadata": {},
   "outputs": [
    {
     "data": {
      "text/html": [
       "<div>\n",
       "<style scoped>\n",
       "    .dataframe tbody tr th:only-of-type {\n",
       "        vertical-align: middle;\n",
       "    }\n",
       "\n",
       "    .dataframe tbody tr th {\n",
       "        vertical-align: top;\n",
       "    }\n",
       "\n",
       "    .dataframe thead th {\n",
       "        text-align: right;\n",
       "    }\n",
       "</style>\n",
       "<table border=\"1\" class=\"dataframe\">\n",
       "  <thead>\n",
       "    <tr style=\"text-align: right;\">\n",
       "      <th></th>\n",
       "      <th>Adj. Close</th>\n",
       "    </tr>\n",
       "    <tr>\n",
       "      <th>Date</th>\n",
       "      <th></th>\n",
       "    </tr>\n",
       "  </thead>\n",
       "  <tbody>\n",
       "    <tr>\n",
       "      <th>2011-01-03</th>\n",
       "      <td>42.354338</td>\n",
       "    </tr>\n",
       "    <tr>\n",
       "      <th>2011-01-04</th>\n",
       "      <td>42.575382</td>\n",
       "    </tr>\n",
       "    <tr>\n",
       "      <th>2011-01-05</th>\n",
       "      <td>42.923655</td>\n",
       "    </tr>\n",
       "    <tr>\n",
       "      <th>2017-12-27</th>\n",
       "      <td>170.600000</td>\n",
       "    </tr>\n",
       "    <tr>\n",
       "      <th>2017-12-28</th>\n",
       "      <td>171.080000</td>\n",
       "    </tr>\n",
       "    <tr>\n",
       "      <th>2017-12-29</th>\n",
       "      <td>169.230000</td>\n",
       "    </tr>\n",
       "  </tbody>\n",
       "</table>\n",
       "</div>"
      ],
      "text/plain": [
       "            Adj. Close\n",
       "Date                  \n",
       "2011-01-03   42.354338\n",
       "2011-01-04   42.575382\n",
       "2011-01-05   42.923655\n",
       "2017-12-27  170.600000\n",
       "2017-12-28  171.080000\n",
       "2017-12-29  169.230000"
      ]
     },
     "execution_count": 5,
     "metadata": {},
     "output_type": "execute_result"
    }
   ],
   "source": [
    "data.head(3).append(data.tail(3))"
   ]
  },
  {
   "cell_type": "code",
   "execution_count": 6,
   "metadata": {},
   "outputs": [
    {
     "data": {
      "image/png": "[encoded data removed]",
      "text/plain": [
       "<Figure size 432x288 with 1 Axes>"
      ]
     },
     "metadata": {
      "needs_background": "light"
     },
     "output_type": "display_data"
    }
   ],
   "source": [
    "data.plot();"
   ]
  },
  {
   "cell_type": "markdown",
   "metadata": {},
   "source": [
    "## Calculate Daily Volatility"
   ]
  },
  {
   "cell_type": "code",
   "execution_count": 7,
   "metadata": {},
   "outputs": [],
   "source": [
    "daily_vol = ml.util.get_daily_vol(data[\"Adj. Close\"], lookback=50).dropna()"
   ]
  },
  {
   "cell_type": "code",
   "execution_count": 8,
   "metadata": {},
   "outputs": [
    {
     "data": {
      "text/plain": [
       "Date\n",
       "2011-01-06    0.004297\n",
       "2011-01-07    0.003804\n",
       "2011-01-10    0.005906\n",
       "2017-12-27    0.014866\n",
       "2017-12-28    0.014582\n",
       "2017-12-29    0.014385\n",
       "Name: Adj. Close, dtype: float64"
      ]
     },
     "execution_count": 8,
     "metadata": {},
     "output_type": "execute_result"
    }
   ],
   "source": [
    "daily_vol.head(3).append(daily_vol.tail(3))"
   ]
  },
  {
   "cell_type": "markdown",
   "metadata": {},
   "source": [
    "## Apply CUSUM Filter | Get Timestamps for Events"
   ]
  },
  {
   "cell_type": "code",
   "execution_count": 9,
   "metadata": {},
   "outputs": [],
   "source": [
    "# Set the average volatility as the CUSUM threshold\n",
    "cusum_threshold = daily_vol.mean()"
   ]
  },
  {
   "cell_type": "code",
   "execution_count": 10,
   "metadata": {},
   "outputs": [
    {
     "name": "stdout",
     "output_type": "stream",
     "text": [
      "0.020577125429405662\n"
     ]
    }
   ],
   "source": [
    "print(cusum_threshold)"
   ]
  },
  {
   "cell_type": "code",
   "execution_count": 11,
   "metadata": {},
   "outputs": [],
   "source": [
    "# Get timestamps for the events using CUSUM\n",
    "cusum_events = ml.filters.cusum_filter(data[\"Adj. Close\"], threshold=cusum_threshold)"
   ]
  },
  {
   "cell_type": "code",
   "execution_count": 12,
   "metadata": {},
   "outputs": [
    {
     "data": {
      "text/plain": [
       "DatetimeIndex(['2011-01-10', '2011-01-18', '2011-01-20', '2011-01-24',\n",
       "               '2011-01-28', '2011-02-01', '2011-02-07', '2011-02-15',\n",
       "               '2011-02-18', '2011-02-22',\n",
       "               ...\n",
       "               '2017-10-19', '2017-10-27', '2017-10-30', '2017-11-03',\n",
       "               '2017-11-14', '2017-11-21', '2017-11-29', '2017-12-11',\n",
       "               '2017-12-18', '2017-12-26'],\n",
       "              dtype='datetime64[ns]', length=493, freq=None)"
      ]
     },
     "execution_count": 12,
     "metadata": {},
     "output_type": "execute_result"
    }
   ],
   "source": [
    "cusum_events"
   ]
  },
  {
   "cell_type": "code",
   "execution_count": 13,
   "metadata": {},
   "outputs": [
    {
     "name": "stdout",
     "output_type": "stream",
     "text": [
      "493\n",
      "1759\n",
      "0.2802728823194997\n"
     ]
    }
   ],
   "source": [
    "# CUSUM filter: Stats\n",
    "print(cusum_events.shape[0])\n",
    "print(data.shape[0])\n",
    "print(cusum_events.shape[0] / data.shape[0])"
   ]
  },
  {
   "cell_type": "markdown",
   "metadata": {},
   "source": [
    "## Triple Barrier Labeling"
   ]
  },
  {
   "cell_type": "code",
   "execution_count": 14,
   "metadata": {},
   "outputs": [],
   "source": [
    "# For each timestamp in cusum_events, obtain its vertical barrier (h=10)\n",
    "vertical_barriers = ml.labeling.add_vertical_barrier(t_events=cusum_events,\n",
    "                                                     close=data['Adj. Close'],\n",
    "                                                     num_days=10)"
   ]
  },
  {
   "cell_type": "code",
   "execution_count": 15,
   "metadata": {},
   "outputs": [
    {
     "data": {
      "text/plain": [
       "2011-01-10   2011-01-20\n",
       "2011-01-18   2011-01-28\n",
       "2011-01-20   2011-01-31\n",
       "Name: Date, dtype: datetime64[ns]"
      ]
     },
     "execution_count": 15,
     "metadata": {},
     "output_type": "execute_result"
    }
   ],
   "source": [
    "vertical_barriers.head(3)"
   ]
  },
  {
   "cell_type": "code",
   "execution_count": 16,
   "metadata": {},
   "outputs": [],
   "source": [
    "# TBL Barriers Calculation (first touching time)\n",
    "pt_sl = [1, 2]\n",
    "min_return = 0.005"
   ]
  },
  {
   "cell_type": "code",
   "execution_count": 17,
   "metadata": {},
   "outputs": [],
   "source": [
    "barrier_events = ml.labeling.get_events(data[\"Adj. Close\"], \n",
    "                                        t_events=cusum_events, \n",
    "                                        pt_sl=pt_sl, \n",
    "                                        target=daily_vol,\n",
    "                                        min_ret=min_return, \n",
    "                                        num_threads=2, \n",
    "                                        vertical_barrier_times=vertical_barriers,\n",
    "                                        verbose=False\n",
    "                                       )\n",
    "barrier_events.dropna(inplace=True)"
   ]
  },
  {
   "cell_type": "code",
   "execution_count": 18,
   "metadata": {},
   "outputs": [
    {
     "data": {
      "text/html": [
       "<div>\n",
       "<style scoped>\n",
       "    .dataframe tbody tr th:only-of-type {\n",
       "        vertical-align: middle;\n",
       "    }\n",
       "\n",
       "    .dataframe tbody tr th {\n",
       "        vertical-align: top;\n",
       "    }\n",
       "\n",
       "    .dataframe thead th {\n",
       "        text-align: right;\n",
       "    }\n",
       "</style>\n",
       "<table border=\"1\" class=\"dataframe\">\n",
       "  <thead>\n",
       "    <tr style=\"text-align: right;\">\n",
       "      <th></th>\n",
       "      <th>t1</th>\n",
       "      <th>trgt</th>\n",
       "      <th>pt</th>\n",
       "      <th>sl</th>\n",
       "    </tr>\n",
       "  </thead>\n",
       "  <tbody>\n",
       "    <tr>\n",
       "      <th>2011-01-10</th>\n",
       "      <td>2011-01-13</td>\n",
       "      <td>0.005906</td>\n",
       "      <td>1</td>\n",
       "      <td>2</td>\n",
       "    </tr>\n",
       "    <tr>\n",
       "      <th>2011-01-18</th>\n",
       "      <td>2011-01-20</td>\n",
       "      <td>0.012874</td>\n",
       "      <td>1</td>\n",
       "      <td>2</td>\n",
       "    </tr>\n",
       "    <tr>\n",
       "      <th>2011-01-20</th>\n",
       "      <td>2011-01-25</td>\n",
       "      <td>0.018058</td>\n",
       "      <td>1</td>\n",
       "      <td>2</td>\n",
       "    </tr>\n",
       "    <tr>\n",
       "      <th>2017-11-29</th>\n",
       "      <td>2017-12-11</td>\n",
       "      <td>0.016845</td>\n",
       "      <td>1</td>\n",
       "      <td>2</td>\n",
       "    </tr>\n",
       "    <tr>\n",
       "      <th>2017-12-11</th>\n",
       "      <td>2017-12-18</td>\n",
       "      <td>0.015184</td>\n",
       "      <td>1</td>\n",
       "      <td>2</td>\n",
       "    </tr>\n",
       "    <tr>\n",
       "      <th>2017-12-18</th>\n",
       "      <td>2017-12-26</td>\n",
       "      <td>0.014226</td>\n",
       "      <td>1</td>\n",
       "      <td>2</td>\n",
       "    </tr>\n",
       "  </tbody>\n",
       "</table>\n",
       "</div>"
      ],
      "text/plain": [
       "                   t1      trgt  pt  sl\n",
       "2011-01-10 2011-01-13  0.005906   1   2\n",
       "2011-01-18 2011-01-20  0.012874   1   2\n",
       "2011-01-20 2011-01-25  0.018058   1   2\n",
       "2017-11-29 2017-12-11  0.016845   1   2\n",
       "2017-12-11 2017-12-18  0.015184   1   2\n",
       "2017-12-18 2017-12-26  0.014226   1   2"
      ]
     },
     "execution_count": 18,
     "metadata": {},
     "output_type": "execute_result"
    }
   ],
   "source": [
    "barrier_events.head(3).append(barrier_events.tail(3))"
   ]
  },
  {
   "cell_type": "markdown",
   "metadata": {},
   "source": [
    "## Average Uniqueness of Labels"
   ]
  },
  {
   "cell_type": "code",
   "execution_count": 19,
   "metadata": {},
   "outputs": [],
   "source": [
    "av_unique = get_av_uniqueness_from_triple_barrier(triple_barrier_events=barrier_events, \n",
    "                                                  close_series=data[\"Adj. Close\"],\n",
    "                                                  num_threads=2, \n",
    "                                                  verbose=0\n",
    "                                                 )"
   ]
  },
  {
   "cell_type": "code",
   "execution_count": 20,
   "metadata": {},
   "outputs": [
    {
     "data": {
      "text/html": [
       "<div>\n",
       "<style scoped>\n",
       "    .dataframe tbody tr th:only-of-type {\n",
       "        vertical-align: middle;\n",
       "    }\n",
       "\n",
       "    .dataframe tbody tr th {\n",
       "        vertical-align: top;\n",
       "    }\n",
       "\n",
       "    .dataframe thead th {\n",
       "        text-align: right;\n",
       "    }\n",
       "</style>\n",
       "<table border=\"1\" class=\"dataframe\">\n",
       "  <thead>\n",
       "    <tr style=\"text-align: right;\">\n",
       "      <th></th>\n",
       "      <th>t1</th>\n",
       "      <th>trgt</th>\n",
       "      <th>pt</th>\n",
       "      <th>sl</th>\n",
       "      <th>tW</th>\n",
       "    </tr>\n",
       "  </thead>\n",
       "  <tbody>\n",
       "    <tr>\n",
       "      <th>2011-01-10</th>\n",
       "      <td>2011-01-13</td>\n",
       "      <td>0.005906</td>\n",
       "      <td>1</td>\n",
       "      <td>2</td>\n",
       "      <td>1.000000</td>\n",
       "    </tr>\n",
       "    <tr>\n",
       "      <th>2011-01-18</th>\n",
       "      <td>2011-01-20</td>\n",
       "      <td>0.012874</td>\n",
       "      <td>1</td>\n",
       "      <td>2</td>\n",
       "      <td>0.833333</td>\n",
       "    </tr>\n",
       "    <tr>\n",
       "      <th>2011-01-20</th>\n",
       "      <td>2011-01-25</td>\n",
       "      <td>0.018058</td>\n",
       "      <td>1</td>\n",
       "      <td>2</td>\n",
       "      <td>0.625000</td>\n",
       "    </tr>\n",
       "    <tr>\n",
       "      <th>2011-01-24</th>\n",
       "      <td>2011-02-01</td>\n",
       "      <td>0.022417</td>\n",
       "      <td>1</td>\n",
       "      <td>2</td>\n",
       "      <td>0.619048</td>\n",
       "    </tr>\n",
       "    <tr>\n",
       "      <th>2011-01-28</th>\n",
       "      <td>2011-02-01</td>\n",
       "      <td>0.023666</td>\n",
       "      <td>1</td>\n",
       "      <td>2</td>\n",
       "      <td>0.444444</td>\n",
       "    </tr>\n",
       "  </tbody>\n",
       "</table>\n",
       "</div>"
      ],
      "text/plain": [
       "                   t1      trgt  pt  sl        tW\n",
       "2011-01-10 2011-01-13  0.005906   1   2  1.000000\n",
       "2011-01-18 2011-01-20  0.012874   1   2  0.833333\n",
       "2011-01-20 2011-01-25  0.018058   1   2  0.625000\n",
       "2011-01-24 2011-02-01  0.022417   1   2  0.619048\n",
       "2011-01-28 2011-02-01  0.023666   1   2  0.444444"
      ]
     },
     "execution_count": 20,
     "metadata": {},
     "output_type": "execute_result"
    }
   ],
   "source": [
    "pd.concat([barrier_events,av_unique], axis=1).head()"
   ]
  },
  {
   "cell_type": "code",
   "execution_count": 21,
   "metadata": {},
   "outputs": [
    {
     "name": "stdout",
     "output_type": "stream",
     "text": [
      "tW    0.670403\n",
      "dtype: float64\n"
     ]
    }
   ],
   "source": [
    "# Average uniqueness of all labels\n",
    "print(av_unique.mean())"
   ]
  },
  {
   "cell_type": "code",
   "execution_count": 22,
   "metadata": {},
   "outputs": [
    {
     "name": "stdout",
     "output_type": "stream",
     "text": [
      "(33, 1)\n"
     ]
    }
   ],
   "source": [
    "# Unique labels count\n",
    "unique_label_index = av_unique[av_unique[\"tW\"]==1]\n",
    "print(unique_label_index.shape)"
   ]
  },
  {
   "cell_type": "markdown",
   "metadata": {},
   "source": [
    "## Sequential Bootstrapping"
   ]
  },
  {
   "cell_type": "code",
   "execution_count": 23,
   "metadata": {},
   "outputs": [],
   "source": [
    "# Get indicator matrix for barrier events (Another Form)\n",
    "triple_barrier_ind_mat = get_ind_matrix(barrier_events, price_bars=data['Adj. Close'])"
   ]
  },
  {
   "cell_type": "code",
   "execution_count": 24,
   "metadata": {},
   "outputs": [],
   "source": [
    "# Sequential Bootstrap Sampling\n",
    "sample_length = int(1 * barrier_events.shape[0])\n",
    "samples = seq_bootstrap(triple_barrier_ind_mat, sample_length=sample_length, verbose=0)"
   ]
  },
  {
   "cell_type": "code",
   "execution_count": 25,
   "metadata": {
    "scrolled": true
   },
   "outputs": [
    {
     "name": "stdout",
     "output_type": "stream",
     "text": [
      "348\n",
      "[118, 100, 423, 402, 146, 64, 247, 352, 286, 304]\n"
     ]
    }
   ],
   "source": [
    "print(len(set(samples)))\n",
    "print(samples[:10])"
   ]
  },
  {
   "cell_type": "markdown",
   "metadata": {},
   "source": [
    "## Breakdown of Sequential Bootstrapping: Probability Update"
   ]
  },
  {
   "cell_type": "code",
   "execution_count": 26,
   "metadata": {},
   "outputs": [],
   "source": [
    "ind_mat = np.array([[1, 0, 0],\n",
    "       [1, 0, 0],\n",
    "       [1, 1, 0],\n",
    "       [0, 1, 0],\n",
    "       [0, 0, 1],\n",
    "       [0, 0, 1]])"
   ]
  },
  {
   "cell_type": "code",
   "execution_count": 27,
   "metadata": {},
   "outputs": [],
   "source": [
    "# For each possible new sample, calculate the average uniqueness \n",
    "# The uniqueness score will be used to allocate the probablity for the label\n",
    "# Higher uniqueness results in higher probability\n",
    "phi = [1, 2]\n",
    "uniqueness_array = np.array([None, None, None])\n",
    "\n",
    "for i in range(0, 3):  \n",
    "    ind_mat_with_new_sample = ind_mat[:, phi + [i]]\n",
    "    uniqueness_array[i] = get_ind_mat_average_uniqueness(ind_mat_with_new_sample)\n",
    "probability_array = uniqueness_array / np.sum(uniqueness_array)"
   ]
  },
  {
   "cell_type": "code",
   "execution_count": 28,
   "metadata": {},
   "outputs": [
    {
     "name": "stdout",
     "output_type": "stream",
     "text": [
      "[0.8571428571428571 0.6666666666666666 0.6666666666666666]\n",
      "[0.391304347826087 0.30434782608695654 0.30434782608695654]\n"
     ]
    }
   ],
   "source": [
    "print(uniqueness_array)\n",
    "print(probability_array)"
   ]
  },
  {
   "cell_type": "markdown",
   "metadata": {},
   "source": [
    "## Compare Uniqueness of Sequential and Standard Bootstrap"
   ]
  },
  {
   "cell_type": "code",
   "execution_count": 29,
   "metadata": {},
   "outputs": [],
   "source": [
    "n = 100\n",
    "sample_length = 400\n",
    "seq_uniqueness = []\n",
    "standard_uniqueness = []"
   ]
  },
  {
   "cell_type": "code",
   "execution_count": 30,
   "metadata": {},
   "outputs": [],
   "source": [
    "for _ in range(n):\n",
    "    seq_samples = seq_bootstrap(triple_barrier_ind_mat, sample_length=sample_length)\n",
    "    standard_samples = resample(np.arange(triple_barrier_ind_mat.shape[1]), n_samples=sample_length)\n",
    "    \n",
    "    seq_uniqueness.append(get_ind_mat_average_uniqueness(triple_barrier_ind_mat[:, seq_samples]))\n",
    "    standard_uniqueness.append(get_ind_mat_average_uniqueness(triple_barrier_ind_mat[:, standard_samples]))"
   ]
  },
  {
   "cell_type": "code",
   "execution_count": 31,
   "metadata": {},
   "outputs": [
    {
     "data": {
      "text/plain": [
       "<AxesSubplot:>"
      ]
     },
     "execution_count": 31,
     "metadata": {},
     "output_type": "execute_result"
    },
    {
     "data": {
      "image/png": "[encoded data removed]",
      "text/plain": [
       "<Figure size 432x288 with 1 Axes>"
      ]
     },
     "metadata": {
      "needs_background": "light"
     },
     "output_type": "display_data"
    }
   ],
   "source": [
    "sns.kdeplot(np.array(standard_uniqueness), shade=True, label=\"Standard Bootstrap\")\n",
    "sns.kdeplot(np.array(seq_uniqueness), shade=True, label=\"Sequencial Bootstrap\")"
   ]
  },
  {
   "cell_type": "code",
   "execution_count": 32,
   "metadata": {},
   "outputs": [],
   "source": [
    "# The sequential bootstrap sampling provides higher uniqueness"
   ]
  }
 ],
 "metadata": {
  "kernelspec": {
   "display_name": "finance",
   "language": "python",
   "name": "finance"
  },
  "language_info": {
   "codemirror_mode": {
    "name": "ipython",
    "version": 3
   },
   "file_extension": ".py",
   "mimetype": "text/x-python",
   "name": "python",
   "nbconvert_exporter": "python",
   "pygments_lexer": "ipython3",
   "version": "3.7.9"
  }
 },
 "nbformat": 4,
 "nbformat_minor": 4
}
